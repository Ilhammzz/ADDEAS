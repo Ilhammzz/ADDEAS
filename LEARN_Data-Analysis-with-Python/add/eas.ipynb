{
 "cells": [
  {
   "cell_type": "code",
   "execution_count": 1,
   "id": "initial_id",
   "metadata": {
    "collapsed": true,
    "ExecuteTime": {
     "end_time": "2023-12-16T11:28:31.412622300Z",
     "start_time": "2023-12-16T11:28:31.380696Z"
    }
   },
   "outputs": [],
   "source": [
    "import pandas as pd\n",
    "import seaborn as sns\n",
    "import matplotlib.pyplot as plt"
   ]
  },
  {
   "cell_type": "code",
   "execution_count": 3,
   "outputs": [
    {
     "data": {
      "text/plain": "           Bulan         Wilayah  Kecamatan            NamaFaskes  \\\n0        Agustus  Surabaya Barat  Asem Rowo    Puskesmas Asemrowo   \n1        Agustus  Surabaya Barat  Asem Rowo    Puskesmas Asemrowo   \n2        Agustus  Surabaya Barat  Asem Rowo    Puskesmas Asemrowo   \n3        Agustus  Surabaya Barat  Asem Rowo    Puskesmas Asemrowo   \n4        Agustus  Surabaya Barat  Asem Rowo    Puskesmas Asemrowo   \n...          ...             ...        ...                   ...   \n15871  September  Surabaya Utara   Semampir  Puskesmas Wonokusumo   \n15872  September  Surabaya Utara   Semampir  Puskesmas Wonokusumo   \n15873  September  Surabaya Utara   Semampir  Puskesmas Wonokusumo   \n15874  September  Surabaya Utara   Semampir  Puskesmas Wonokusumo   \n15875  September  Surabaya Utara   Semampir  Puskesmas Wonokusumo   \n\n                                           JenisPenyakit  Jumlah  \n0                           Penyakit Infeksi dan parasit   226.0  \n1                                              Neoplasma    33.0  \n2      Penyakit darah dan organ pembentuk darah terma...     5.0  \n3               Endokrin, nutrisi dan gangguan metabolik   142.0  \n4                             Gangguan jiwa dan perilaku    13.0  \n...                                                  ...     ...  \n15871  Malformasi kongenital, deformasi dan kelainan ...     1.0  \n15872  Gejala, tanda, kelainan klinik dan kelainan la...    86.0  \n15873  Keracunan, cedera dan beberapa penyebab yang d...    36.0  \n15874         Penyebab morbiditas dan kematian eksternal     0.0  \n15875  Faktor-faktor yang mempengaruhi status kesehat...   287.0  \n\n[15876 rows x 6 columns]",
      "text/html": "<div>\n<style scoped>\n    .dataframe tbody tr th:only-of-type {\n        vertical-align: middle;\n    }\n\n    .dataframe tbody tr th {\n        vertical-align: top;\n    }\n\n    .dataframe thead th {\n        text-align: right;\n    }\n</style>\n<table border=\"1\" class=\"dataframe\">\n  <thead>\n    <tr style=\"text-align: right;\">\n      <th></th>\n      <th>Bulan</th>\n      <th>Wilayah</th>\n      <th>Kecamatan</th>\n      <th>NamaFaskes</th>\n      <th>JenisPenyakit</th>\n      <th>Jumlah</th>\n    </tr>\n  </thead>\n  <tbody>\n    <tr>\n      <th>0</th>\n      <td>Agustus</td>\n      <td>Surabaya Barat</td>\n      <td>Asem Rowo</td>\n      <td>Puskesmas Asemrowo</td>\n      <td>Penyakit Infeksi dan parasit</td>\n      <td>226.0</td>\n    </tr>\n    <tr>\n      <th>1</th>\n      <td>Agustus</td>\n      <td>Surabaya Barat</td>\n      <td>Asem Rowo</td>\n      <td>Puskesmas Asemrowo</td>\n      <td>Neoplasma</td>\n      <td>33.0</td>\n    </tr>\n    <tr>\n      <th>2</th>\n      <td>Agustus</td>\n      <td>Surabaya Barat</td>\n      <td>Asem Rowo</td>\n      <td>Puskesmas Asemrowo</td>\n      <td>Penyakit darah dan organ pembentuk darah terma...</td>\n      <td>5.0</td>\n    </tr>\n    <tr>\n      <th>3</th>\n      <td>Agustus</td>\n      <td>Surabaya Barat</td>\n      <td>Asem Rowo</td>\n      <td>Puskesmas Asemrowo</td>\n      <td>Endokrin, nutrisi dan gangguan metabolik</td>\n      <td>142.0</td>\n    </tr>\n    <tr>\n      <th>4</th>\n      <td>Agustus</td>\n      <td>Surabaya Barat</td>\n      <td>Asem Rowo</td>\n      <td>Puskesmas Asemrowo</td>\n      <td>Gangguan jiwa dan perilaku</td>\n      <td>13.0</td>\n    </tr>\n    <tr>\n      <th>...</th>\n      <td>...</td>\n      <td>...</td>\n      <td>...</td>\n      <td>...</td>\n      <td>...</td>\n      <td>...</td>\n    </tr>\n    <tr>\n      <th>15871</th>\n      <td>September</td>\n      <td>Surabaya Utara</td>\n      <td>Semampir</td>\n      <td>Puskesmas Wonokusumo</td>\n      <td>Malformasi kongenital, deformasi dan kelainan ...</td>\n      <td>1.0</td>\n    </tr>\n    <tr>\n      <th>15872</th>\n      <td>September</td>\n      <td>Surabaya Utara</td>\n      <td>Semampir</td>\n      <td>Puskesmas Wonokusumo</td>\n      <td>Gejala, tanda, kelainan klinik dan kelainan la...</td>\n      <td>86.0</td>\n    </tr>\n    <tr>\n      <th>15873</th>\n      <td>September</td>\n      <td>Surabaya Utara</td>\n      <td>Semampir</td>\n      <td>Puskesmas Wonokusumo</td>\n      <td>Keracunan, cedera dan beberapa penyebab yang d...</td>\n      <td>36.0</td>\n    </tr>\n    <tr>\n      <th>15874</th>\n      <td>September</td>\n      <td>Surabaya Utara</td>\n      <td>Semampir</td>\n      <td>Puskesmas Wonokusumo</td>\n      <td>Penyebab morbiditas dan kematian eksternal</td>\n      <td>0.0</td>\n    </tr>\n    <tr>\n      <th>15875</th>\n      <td>September</td>\n      <td>Surabaya Utara</td>\n      <td>Semampir</td>\n      <td>Puskesmas Wonokusumo</td>\n      <td>Faktor-faktor yang mempengaruhi status kesehat...</td>\n      <td>287.0</td>\n    </tr>\n  </tbody>\n</table>\n<p>15876 rows × 6 columns</p>\n</div>"
     },
     "execution_count": 3,
     "metadata": {},
     "output_type": "execute_result"
    }
   ],
   "source": [
    "df=pd.read_excel('datasets/data-pasien-penyakit-surabaya.xlsx')\n",
    "df"
   ],
   "metadata": {
    "collapsed": false,
    "ExecuteTime": {
     "end_time": "2023-12-16T11:30:10.805487500Z",
     "start_time": "2023-12-16T11:30:08.463144300Z"
    }
   },
   "id": "716985c39042ac4c"
  },
  {
   "cell_type": "code",
   "execution_count": 13,
   "outputs": [
    {
     "data": {
      "text/plain": "           Bulan           Wilayah         Kecamatan  \\\n14       Agustus    Surabaya Barat         Asem Rowo   \n35       Agustus  Surabaya Selatan            Wiyung   \n56       Agustus    Surabaya Barat            Tandes   \n77       Agustus    Surabaya Barat       Lakarsantri   \n98       Agustus  Surabaya Selatan           Sawahan   \n...          ...               ...               ...   \n15785  September    Surabaya Pusat           Bubutan   \n15806  September    Surabaya Timur  Tenggilis Mejoyo   \n15827  September  Surabaya Selatan            Wiyung   \n15848  September  Surabaya Selatan         Wonokromo   \n15869  September    Surabaya Utara          Semampir   \n\n                     NamaFaskes            JenisPenyakit  Jumlah  \n14           Puskesmas Asemrowo  Kehamilan dan kelahiran     9.0  \n35     Puskesmas Balas Klumprik  Kehamilan dan kelahiran     1.0  \n56         Puskesmas Balongsari  Kehamilan dan kelahiran    14.0  \n77         Puskesmas Bangkingan  Kehamilan dan kelahiran     1.0  \n98         Puskesmas Banyu Urip  Kehamilan dan kelahiran     8.0  \n...                         ...                      ...     ...  \n15785    Puskesmas Tembok Dukuh  Kehamilan dan kelahiran     7.0  \n15806       Puskesmas Tenggilis  Kehamilan dan kelahiran    66.0  \n15827          Puskesmas Wiyung  Kehamilan dan kelahiran    14.0  \n15848       Puskesmas Wonokromo  Kehamilan dan kelahiran     7.0  \n15869      Puskesmas Wonokusumo  Kehamilan dan kelahiran    27.0  \n\n[738 rows x 6 columns]",
      "text/html": "<div>\n<style scoped>\n    .dataframe tbody tr th:only-of-type {\n        vertical-align: middle;\n    }\n\n    .dataframe tbody tr th {\n        vertical-align: top;\n    }\n\n    .dataframe thead th {\n        text-align: right;\n    }\n</style>\n<table border=\"1\" class=\"dataframe\">\n  <thead>\n    <tr style=\"text-align: right;\">\n      <th></th>\n      <th>Bulan</th>\n      <th>Wilayah</th>\n      <th>Kecamatan</th>\n      <th>NamaFaskes</th>\n      <th>JenisPenyakit</th>\n      <th>Jumlah</th>\n    </tr>\n  </thead>\n  <tbody>\n    <tr>\n      <th>14</th>\n      <td>Agustus</td>\n      <td>Surabaya Barat</td>\n      <td>Asem Rowo</td>\n      <td>Puskesmas Asemrowo</td>\n      <td>Kehamilan dan kelahiran</td>\n      <td>9.0</td>\n    </tr>\n    <tr>\n      <th>35</th>\n      <td>Agustus</td>\n      <td>Surabaya Selatan</td>\n      <td>Wiyung</td>\n      <td>Puskesmas Balas Klumprik</td>\n      <td>Kehamilan dan kelahiran</td>\n      <td>1.0</td>\n    </tr>\n    <tr>\n      <th>56</th>\n      <td>Agustus</td>\n      <td>Surabaya Barat</td>\n      <td>Tandes</td>\n      <td>Puskesmas Balongsari</td>\n      <td>Kehamilan dan kelahiran</td>\n      <td>14.0</td>\n    </tr>\n    <tr>\n      <th>77</th>\n      <td>Agustus</td>\n      <td>Surabaya Barat</td>\n      <td>Lakarsantri</td>\n      <td>Puskesmas Bangkingan</td>\n      <td>Kehamilan dan kelahiran</td>\n      <td>1.0</td>\n    </tr>\n    <tr>\n      <th>98</th>\n      <td>Agustus</td>\n      <td>Surabaya Selatan</td>\n      <td>Sawahan</td>\n      <td>Puskesmas Banyu Urip</td>\n      <td>Kehamilan dan kelahiran</td>\n      <td>8.0</td>\n    </tr>\n    <tr>\n      <th>...</th>\n      <td>...</td>\n      <td>...</td>\n      <td>...</td>\n      <td>...</td>\n      <td>...</td>\n      <td>...</td>\n    </tr>\n    <tr>\n      <th>15785</th>\n      <td>September</td>\n      <td>Surabaya Pusat</td>\n      <td>Bubutan</td>\n      <td>Puskesmas Tembok Dukuh</td>\n      <td>Kehamilan dan kelahiran</td>\n      <td>7.0</td>\n    </tr>\n    <tr>\n      <th>15806</th>\n      <td>September</td>\n      <td>Surabaya Timur</td>\n      <td>Tenggilis Mejoyo</td>\n      <td>Puskesmas Tenggilis</td>\n      <td>Kehamilan dan kelahiran</td>\n      <td>66.0</td>\n    </tr>\n    <tr>\n      <th>15827</th>\n      <td>September</td>\n      <td>Surabaya Selatan</td>\n      <td>Wiyung</td>\n      <td>Puskesmas Wiyung</td>\n      <td>Kehamilan dan kelahiran</td>\n      <td>14.0</td>\n    </tr>\n    <tr>\n      <th>15848</th>\n      <td>September</td>\n      <td>Surabaya Selatan</td>\n      <td>Wonokromo</td>\n      <td>Puskesmas Wonokromo</td>\n      <td>Kehamilan dan kelahiran</td>\n      <td>7.0</td>\n    </tr>\n    <tr>\n      <th>15869</th>\n      <td>September</td>\n      <td>Surabaya Utara</td>\n      <td>Semampir</td>\n      <td>Puskesmas Wonokusumo</td>\n      <td>Kehamilan dan kelahiran</td>\n      <td>27.0</td>\n    </tr>\n  </tbody>\n</table>\n<p>738 rows × 6 columns</p>\n</div>"
     },
     "execution_count": 13,
     "metadata": {},
     "output_type": "execute_result"
    }
   ],
   "source": [
    "df[(df['JenisPenyakit']==\"Kehamilan dan kelahiran\")&(df['Jumlah'])]"
   ],
   "metadata": {
    "collapsed": false,
    "ExecuteTime": {
     "end_time": "2023-12-16T11:39:23.775536200Z",
     "start_time": "2023-12-16T11:39:23.746194400Z"
    }
   },
   "id": "8750d2ad585eb176"
  },
  {
   "cell_type": "code",
   "execution_count": null,
   "outputs": [],
   "source": [],
   "metadata": {
    "collapsed": false
   },
   "id": "47dd8cef74fdd2e1"
  }
 ],
 "metadata": {
  "kernelspec": {
   "display_name": "Python 3",
   "language": "python",
   "name": "python3"
  },
  "language_info": {
   "codemirror_mode": {
    "name": "ipython",
    "version": 2
   },
   "file_extension": ".py",
   "mimetype": "text/x-python",
   "name": "python",
   "nbconvert_exporter": "python",
   "pygments_lexer": "ipython2",
   "version": "2.7.6"
  }
 },
 "nbformat": 4,
 "nbformat_minor": 5
}
